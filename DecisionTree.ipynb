{
  "nbformat": 4,
  "nbformat_minor": 0,
  "metadata": {
    "colab": {
      "name": "HW6_Duan_James.ipynb",
      "provenance": [],
      "collapsed_sections": [],
      "toc_visible": true
    },
    "kernelspec": {
      "name": "python3",
      "display_name": "Python 3"
    },
    "language_info": {
      "name": "python"
    }
  },
  "cells": [
    {
      "cell_type": "markdown",
      "metadata": {
        "id": "gJL_nLkdHYDy"
      },
      "source": [
        "# Homework 6 (30 marks)\n",
        "Create a copy of the notebook to start answering the questions. Name your notebook in the format HW6_lastname_firstname.ipynb to facilitate the grading process.\n",
        "\n",
        "Answer all the questions, test your code to ensure there are no errors and the results are as expected. Once you have answered all the questions, save the final copy, then go to File-> click on Download.ipynb. Once the local copy has been downloaded, submit your file on Blackboard under the corresponding assignment section. Also provide us a link to your notebook during submission.\n",
        "\n",
        "NOTE: Please give the TAs the permission to access your notebooks through the links you have provided during submission.\n",
        "\n",
        "The due date of this homework is 04/09/2021 (Friday).\n",
        "\n",
        "Please ensure you follow all the steps mentioned in the homework.\n",
        "\n",
        "You can submit your solutions any number of times until the deadline.\n",
        "\n",
        "The datasets used in this homework can be found in the google drive link below -\n",
        "\n",
        "https://drive.google.com/drive/folders/1NxCh4X7u7wVo5aHojxjLNs9wC7B7zJhb?usp=sharing\n",
        "\n",
        "Follow the necessary steps to import data to test your code. You can use any method to read your data in the notebook. We will not be grading the methods you use. We will only grade the code from the point where you read the dataset into a pandas dataframe - (pd.read_csv('file_name'))"
      ]
    },
    {
      "cell_type": "markdown",
      "metadata": {
        "id": "Zp3D8wIOH4bR"
      },
      "source": [
        "Import all the libraries you require in the cell below.\n",
        "\n"
      ]
    },
    {
      "cell_type": "code",
      "metadata": {
        "id": "72EyvzqAH6G_"
      },
      "source": [
        "import pandas as pd\n",
        "from sklearn.model_selection import train_test_split\n",
        "from sklearn.tree import DecisionTreeClassifier\n",
        "from sklearn import metrics\n",
        "import matplotlib.pyplot as plt\n",
        "from sklearn import tree\n",
        "\n",
        "pd.set_option('display.max_columns', None)\n"
      ],
      "execution_count": 1,
      "outputs": []
    },
    {
      "cell_type": "markdown",
      "metadata": {
        "id": "TxCnZ-n3H0Wd"
      },
      "source": [
        "### 1. Build a classification model that predicts the edibility of mushrooms (class variable in the dataset). You have been provide with a dataset as a mushrooms.csv file. \n",
        "Here is a description of the attributes\n"
      ]
    },
    {
      "cell_type": "markdown",
      "metadata": {
        "id": "2WX2OwgOIHMd"
      },
      "source": [
        "Attribute description:\n",
        "1. cap-shape: bell=b,conical=c,convex=x,flat=f, knobbed=k,sunken=s \n",
        "2. cap-surface: fibrous=f,grooves=g,scaly=y,smooth=s \n",
        "3. cap-color: brown=n,buff=b,cinnamon=c,gray=g,green=r, pink=p,purple=u,red=e,white=w,yellow=y \n",
        "4. bruises?: bruises=t,no=f \n",
        "5. odor: almond=a,anise=l,creosote=c,fishy=y,foul=f, musty=m,none=n,pungent=p,spicy=s \n",
        "6. gill-attachment: attached=a,descending=d,free=f,notched=n \n",
        "7. gill-spacing: close=c,crowded=w,distant=d \n",
        "8. gill-size: broad=b,narrow=n \n",
        "9. gill-color: black=k,brown=n,buff=b,chocolate=h,gray=g, green=r,orange=o,pink=p,purple=u,red=e, white=w,yellow=y \n",
        "10. stalk-shape: enlarging=e,tapering=t \n",
        "11. stalk-root: bulbous=b,club=c,cup=u,equal=e, rhizomorphs=z,rooted=r,missing=? \n",
        "12. stalk-surface-above-ring: fibrous=f,scaly=y,silky=k,smooth=s \n",
        "13. stalk-surface-below-ring: fibrous=f,scaly=y,silky=k,smooth=s \n",
        "14. stalk-color-above-ring: brown=n,buff=b,cinnamon=c,gray=g,orange=o, pink=p,red=e,white=w,yellow=y \n",
        "15. stalk-color-below-ring: brown=n,buff=b,cinnamon=c,gray=g,orange=o, pink=p,red=e,white=w,yellow=y \n",
        "16. veil-type: partial=p,universal=u \n",
        "17. veil-color: brown=n,orange=o,white=w,yellow=y \n",
        "18. ring-number: none=n,one=o,two=t \n",
        "19. ring-type: cobwebby=c,evanescent=e,flaring=f,large=l, none=n,pendant=p,sheathing=s,zone=z \n",
        "20. spore-print-color: black=k,brown=n,buff=b,chocolate=h,green=r, orange=o,purple=u,white=w,yellow=y \n",
        "21. population: abundant=a,clustered=c,numerous=n, scattered=s,several=v,solitary=y \n",
        "22. habitat: grasses=g,leaves=l,meadows=m,paths=p, urban=u,waste=w,woods=d\n",
        "23. class: p = poisonous, e=edible\n"
      ]
    },
    {
      "cell_type": "markdown",
      "metadata": {
        "id": "LJeXdQymILSv"
      },
      "source": [
        "1. Build a classification tree. Random_state =2020. Training partition 0.7. stratify = y, max_depth = 6, use Entropy (8 marks)\n",
        "\n",
        "A. Read the dataset, explore it and determine what is the dependent variable (1 mark)\n",
        "\n",
        "B. Store the feature and target variable. (2 marks)\n",
        "\n",
        "C. Convert all categorical variables into dummy variables (1 mark)\n",
        "\n",
        "D. Partition the data into training and test sets (70/30) (1 mark)\n",
        "\n",
        "E. Fit the training data to a classification tree. (3 marks)"
      ]
    },
    {
      "cell_type": "code",
      "metadata": {
        "id": "Eme32RA0IKoR",
        "colab": {
          "base_uri": "https://localhost:8080/"
        },
        "outputId": "2d7c4a12-9f26-4e03-daf7-dca9335463e1"
      },
      "source": [
        "# A\n",
        "df = pd.read_csv('mushrooms.csv')\n",
        "print(df.info(),\"\\n\")\n",
        "print(df.head())\n",
        "# class is our dependent variable (edible or poisonous)\n",
        "\n",
        "# B & C\n",
        "# create dummy variables for features\n",
        "non_dummy_col = [\"class\"] # class kepts as non dummy\n",
        "dummy_cols = list(set(df.columns) - set(non_dummy_col)) # remove class from dummy coolumns\n",
        "dfDummy = pd.get_dummies(df, columns=dummy_cols)\n",
        "\n",
        "X = dfDummy.iloc[:, 1:]  # features\n",
        "y = dfDummy.iloc[:, 0]   # target\n",
        "\n",
        "# D\n",
        "X_train, X_test, y_train, y_test = train_test_split(X, y, test_size=0.3, random_state=2020, stratify=y)\n",
        "\n",
        "# E\n",
        "dt = DecisionTreeClassifier(criterion='entropy',max_depth = 6)\n",
        "dt.fit(X_train, y_train)    # fit training data to decision tree\n",
        "\n",
        "y_pred = dt.predict(X_test) # create predictions using test set"
      ],
      "execution_count": 2,
      "outputs": [
        {
          "output_type": "stream",
          "text": [
            "<class 'pandas.core.frame.DataFrame'>\n",
            "RangeIndex: 8124 entries, 0 to 8123\n",
            "Data columns (total 23 columns):\n",
            " #   Column                    Non-Null Count  Dtype \n",
            "---  ------                    --------------  ----- \n",
            " 0   class                     8124 non-null   object\n",
            " 1   cap-shape                 8124 non-null   object\n",
            " 2   cap-surface               8124 non-null   object\n",
            " 3   cap-color                 8124 non-null   object\n",
            " 4   bruises                   8124 non-null   object\n",
            " 5   odor                      8124 non-null   object\n",
            " 6   gill-attachment           8124 non-null   object\n",
            " 7   gill-spacing              8124 non-null   object\n",
            " 8   gill-size                 8124 non-null   object\n",
            " 9   gill-color                8124 non-null   object\n",
            " 10  stalk-shape               8124 non-null   object\n",
            " 11  stalk-root                8124 non-null   object\n",
            " 12  stalk-surface-above-ring  8124 non-null   object\n",
            " 13  stalk-surface-below-ring  8124 non-null   object\n",
            " 14  stalk-color-above-ring    8124 non-null   object\n",
            " 15  stalk-color-below-ring    8124 non-null   object\n",
            " 16  veil-type                 8124 non-null   object\n",
            " 17  veil-color                8124 non-null   object\n",
            " 18  ring-number               8124 non-null   object\n",
            " 19  ring-type                 8124 non-null   object\n",
            " 20  spore-print-color         8124 non-null   object\n",
            " 21  population                8124 non-null   object\n",
            " 22  habitat                   8124 non-null   object\n",
            "dtypes: object(23)\n",
            "memory usage: 1.4+ MB\n",
            "None \n",
            "\n",
            "  class cap-shape cap-surface cap-color bruises odor gill-attachment  \\\n",
            "0     p         x           s         n       t    p               f   \n",
            "1     e         x           s         y       t    a               f   \n",
            "2     e         b           s         w       t    l               f   \n",
            "3     p         x           y         w       t    p               f   \n",
            "4     e         x           s         g       f    n               f   \n",
            "\n",
            "  gill-spacing gill-size gill-color stalk-shape stalk-root  \\\n",
            "0            c         n          k           e          e   \n",
            "1            c         b          k           e          c   \n",
            "2            c         b          n           e          c   \n",
            "3            c         n          n           e          e   \n",
            "4            w         b          k           t          e   \n",
            "\n",
            "  stalk-surface-above-ring stalk-surface-below-ring stalk-color-above-ring  \\\n",
            "0                        s                        s                      w   \n",
            "1                        s                        s                      w   \n",
            "2                        s                        s                      w   \n",
            "3                        s                        s                      w   \n",
            "4                        s                        s                      w   \n",
            "\n",
            "  stalk-color-below-ring veil-type veil-color ring-number ring-type  \\\n",
            "0                      w         p          w           o         p   \n",
            "1                      w         p          w           o         p   \n",
            "2                      w         p          w           o         p   \n",
            "3                      w         p          w           o         p   \n",
            "4                      w         p          w           o         e   \n",
            "\n",
            "  spore-print-color population habitat  \n",
            "0                 k          s       u  \n",
            "1                 n          n       g  \n",
            "2                 n          n       m  \n",
            "3                 k          s       u  \n",
            "4                 n          a       g  \n"
          ],
          "name": "stdout"
        }
      ]
    },
    {
      "cell_type": "markdown",
      "metadata": {
        "id": "YB-2YFsOIUah"
      },
      "source": [
        "2. Print the confusion matrix. \n",
        "Also visualize the confusion matrix using plot_confusion_matrix from sklearn.metrics (3 marks)\n",
        "\n"
      ]
    },
    {
      "cell_type": "code",
      "metadata": {
        "id": "VFwyLKzcRjyY",
        "colab": {
          "base_uri": "https://localhost:8080/",
          "height": 313
        },
        "outputId": "c8c1eaac-e5a8-4df5-d33f-ed566291df53"
      },
      "source": [
        "cf = metrics.confusion_matrix(y_test, y_pred)\n",
        "print(cf)\n",
        "\n",
        "Labels = ['Edible', 'Poisonous']\n",
        "metrics.plot_confusion_matrix(dt, X_test, y_test,display_labels=Labels,values_format = '.5g')\n",
        "plt.show()\n"
      ],
      "execution_count": 3,
      "outputs": [
        {
          "output_type": "stream",
          "text": [
            "[[1263    0]\n",
            " [   3 1172]]\n"
          ],
          "name": "stdout"
        },
        {
          "output_type": "display_data",
          "data": {
            "image/png": "[encoded data removed]",
            "text/plain": [
              "<Figure size 432x288 with 2 Axes>"
            ]
          },
          "metadata": {
            "tags": [],
            "needs_background": "light"
          }
        }
      ]
    },
    {
      "cell_type": "markdown",
      "metadata": {
        "id": "yhdyvv48JFFd"
      },
      "source": [
        "3. Print the accuracy on the training partition?  (2 marks)\n"
      ]
    },
    {
      "cell_type": "code",
      "metadata": {
        "id": "WeQ9cOluRrL2",
        "colab": {
          "base_uri": "https://localhost:8080/"
        },
        "outputId": "f8f0cb46-27dc-4db7-a27f-2ff6e7090a71"
      },
      "source": [
        "y_trainpred = dt.predict(X_train)\n",
        "print('Accuracy =', metrics.accuracy_score(y_train, y_trainpred))\n"
      ],
      "execution_count": 4,
      "outputs": [
        {
          "output_type": "stream",
          "text": [
            "Accuracy = 1.0\n"
          ],
          "name": "stdout"
        }
      ]
    },
    {
      "cell_type": "markdown",
      "metadata": {
        "id": "_aH9TPFSJGv_"
      },
      "source": [
        "4. Print the accuracy on the test partition? (2 marks)\n"
      ]
    },
    {
      "cell_type": "code",
      "metadata": {
        "id": "U4eEWJCvRwSn",
        "colab": {
          "base_uri": "https://localhost:8080/"
        },
        "outputId": "44ab6cf6-9bc2-4c51-c291-349ad3a714ff"
      },
      "source": [
        "print('Accuracy =', metrics.accuracy_score(y_test, y_pred))\n"
      ],
      "execution_count": 5,
      "outputs": [
        {
          "output_type": "stream",
          "text": [
            "Accuracy = 0.9987694831829368\n"
          ],
          "name": "stdout"
        }
      ]
    },
    {
      "cell_type": "markdown",
      "metadata": {
        "id": "_cWbOP-3JIE0"
      },
      "source": [
        "5. Show the classification tree and save it (5 marks)\n"
      ]
    },
    {
      "cell_type": "code",
      "metadata": {
        "id": "LRuYQCeNR1Dn",
        "colab": {
          "base_uri": "https://localhost:8080/",
          "height": 248
        },
        "outputId": "d99a16d8-6de0-433b-8573-294395cad4ee"
      },
      "source": [
        "plt.figure(2)\n",
        "fn = X.columns\n",
        "cn = y.unique()\n",
        "Tree = tree.plot_tree(dt, feature_names=fn, class_names=cn, filled=True)\n",
        "plt.savefig('MushroomDT.png')\n",
        "plt.show()"
      ],
      "execution_count": 6,
      "outputs": [
        {
          "output_type": "display_data",
          "data": {
            "image/png": "[encoded data removed]",
            "text/plain": [
              "<Figure size 432x288 with 1 Axes>"
            ]
          },
          "metadata": {
            "tags": [],
            "needs_background": "light"
          }
        }
      ]
    },
    {
      "cell_type": "markdown",
      "metadata": {
        "id": "a3fM0HMSJJl8"
      },
      "source": [
        "6. Find and print the top three most important features in your decision tree for determining toxicity. (4 marks)"
      ]
    },
    {
      "cell_type": "code",
      "metadata": {
        "id": "qTkc8ga1R6kd",
        "colab": {
          "base_uri": "https://localhost:8080/"
        },
        "outputId": "bf88505e-05fa-4219-84a4-7f7659ee9632"
      },
      "source": [
        "imp = pd.DataFrame(zip(X_train.columns, dt.feature_importances_),columns=[\"Features\",\"Importance\"]) # create df of importance of features\n",
        "imp = imp.loc[imp['Importance']>0]  # keep only features with importance > 0\n",
        "imp = imp.sort_values(by='Importance', ascending=False) # sort by descending importance\n",
        "print(imp.iloc[:3]) # three most important features"
      ],
      "execution_count": 7,
      "outputs": [
        {
          "output_type": "stream",
          "text": [
            "         Features  Importance\n",
            "104        odor_n    0.527899\n",
            "35      bruises_f    0.212695\n",
            "7    stalk-root_c    0.067373\n"
          ],
          "name": "stdout"
        }
      ]
    },
    {
      "cell_type": "markdown",
      "metadata": {
        "id": "uye7JohHJQmN"
      },
      "source": [
        "7. Classify the following mushroom. (6 marks)\n",
        "\n",
        "class\n",
        " : **?**\n",
        "\n",
        "cap-shape\n",
        ": **x**\n",
        "\n",
        "cap-surface\n",
        ": **s**\n",
        "\n",
        "cap-color\n",
        ": **n**\n",
        "\n",
        "bruises\n",
        ": **t**\n",
        "\n",
        "odor\n",
        ": **y**\n",
        "\n",
        "gill-attachment\n",
        ": **f**\n",
        "\n",
        "gill-spacing\n",
        ": **c**\n",
        "\n",
        "gill-size\n",
        ": **n**\n",
        "\n",
        "gill-color\n",
        ": **k**\n",
        "\n",
        "stalk-shape\n",
        ": **e**\n",
        "\n",
        "stalk-root\n",
        ": **e**\n",
        "\n",
        "stalk-surface-above-ring\n",
        ": **s**\n",
        "\n",
        "stalk-surface-below-ring\n",
        ": **s**\n",
        "\n",
        "stalk-color-above-ring\n",
        ": **w**\n",
        "\n",
        "stalk-color-below-ring\n",
        ": **w**\n",
        "\n",
        "veil-type\n",
        ": **p**\n",
        "\n",
        "veil-color\n",
        ": **w**\n",
        "\n",
        "ring-number\n",
        ": **o**\n",
        "\n",
        "ring-type\n",
        ": **p**\n",
        "\n",
        "spore-print-color\n",
        ": **r**\n",
        "\n",
        "population\n",
        ": **s**\n",
        "\n",
        "habitat\n",
        ": **u**\n",
        "\n"
      ]
    },
    {
      "cell_type": "code",
      "metadata": {
        "id": "jaLW4bhtSGjh",
        "colab": {
          "base_uri": "https://localhost:8080/"
        },
        "outputId": "a7028325-bee6-4943-9e4a-b00728943c7f"
      },
      "source": [
        "data = {'class' : '?', 'cap-shape' : 'x', 'cap-surface' : 's', 'cap-color' : 'n', 'bruises' : 't',\n",
        "  'odor' : 'y', 'gill-attachment' : 'f', 'gill-spacing' : 'c', 'gill-size' : 'n',\n",
        "  'gill-color' : 'k', 'stalk-shape' : 'e', 'stalk-root' : 'e', 'stalk-surface-above-ring' : 's',\n",
        "  'stalk-surface-below-ring' : 's', 'stalk-color-above-ring' : 'w', 'stalk-color-below-ring' : 'w',\n",
        "  'veil-type' : 'p', 'veil-color' : 'w', 'ring-number' : 'o', 'ring-type' : 'p', 'spore-print-color' : 'r',\n",
        "  'population' : 's', 'habitat' : 'u'}  # create dictionary for mushroom\n",
        "\n",
        "df2 = pd.DataFrame(data = data, index=[8124]) # convert data in to df\n",
        "df = df.append(df2) # append to existing df\n",
        "\n",
        "dfDummy2 = pd.get_dummies(df, columns=dummy_cols) # convert into dummy variables (refer to A)\n",
        "newData = dfDummy2.iloc[8124:8125, 1:] # select only the new mushroom that is being classified\n",
        "\n",
        "pred = dt.predict(newData)\n",
        "print(pred) # based on our dt, the mushroom is poisonous"
      ],
      "execution_count": 8,
      "outputs": [
        {
          "output_type": "stream",
          "text": [
            "['p']\n"
          ],
          "name": "stdout"
        }
      ]
    }
  ]
}